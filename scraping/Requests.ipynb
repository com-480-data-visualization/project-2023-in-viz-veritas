{
 "cells": [
  {
   "cell_type": "code",
   "execution_count": 2,
   "id": "e3daec9c",
   "metadata": {},
   "outputs": [],
   "source": [
    "import requests\n",
    "import pandas as pd\n",
    "import json\n",
    "from bs4 import BeautifulSoup\n",
    "import os\n",
    "from tqdm import tqdm\n",
    "import multiprocessing as mp\n",
    "import threading"
   ]
  },
  {
   "cell_type": "code",
   "execution_count": 3,
   "id": "f4ea5c3d",
   "metadata": {},
   "outputs": [
    {
     "name": "stdout",
     "output_type": "stream",
     "text": [
      "200\n"
     ]
    }
   ],
   "source": [
    "#create Session and authenticate\n",
    "s = requests.Session()\n",
    "\n",
    "#authentication for transkribus API\n",
    "url = 'https://transkribus.eu/TrpServer/rest/auth/login'\n",
    "\n",
    "#Yes, I know. You can see my password. Just don't do anything stupid with it please ok. Thanks\n",
    "auth = {'user': 'hannah.casey@epfl.ch', 'pw':'ZqYI5nDW29VjukNWoUHt'}\n",
    "r = s.post(url, data=auth)\n",
    "print(r.status_code)"
   ]
  },
  {
   "cell_type": "code",
   "execution_count": 4,
   "id": "22d308e9",
   "metadata": {},
   "outputs": [
    {
     "name": "stdout",
     "output_type": "stream",
     "text": [
      "[{'type': 'trpCollection', 'colId': 124423, 'colName': 'Hertziana_Read&Search', 'description': 'created by guenter.hackl@transkribus.eu', 'crowdsourcing': False, 'elearning': False, 'pageId': 30709409, 'url': 'https://files.transkribus.eu/Get?fileType=view&id=DTWJIGLNLUSXZUZAWUJXDEBP', 'thumbUrl': 'https://files.transkribus.eu/Get?fileType=thumb&id=DTWJIGLNLUSXZUZAWUJXDEBP', 'nrOfDocuments': 3846, 'role': 'Editor', 'accountingStatus': 1}, {'type': 'trpCollection', 'colId': 192720, 'colName': 'hannah.casey@epfl.ch Collection', 'description': 'hannah.casey@epfl.ch', 'crowdsourcing': False, 'elearning': False, 'pageId': 53243366, 'url': 'https://files.transkribus.eu/Get?fileType=view&id=DAEQZNPMDNXLWKBWOHOHPWDD', 'thumbUrl': 'https://files.transkribus.eu/Get?fileType=thumb&id=DAEQZNPMDNXLWKBWOHOHPWDD', 'nrOfDocuments': 1, 'role': 'Owner', 'accountingStatus': 1}]\n"
     ]
    }
   ],
   "source": [
    "#See collections \n",
    "col_url = 'https://transkribus.eu/TrpServer/rest/collections/list'\n",
    "r = s.get(col_url,data=auth)\n",
    "print(r.json())"
   ]
  },
  {
   "cell_type": "code",
   "execution_count": 5,
   "id": "fc554cf7",
   "metadata": {},
   "outputs": [
    {
     "name": "stdout",
     "output_type": "stream",
     "text": [
      "Hertziana_Read&Search / 124423\n"
     ]
    }
   ],
   "source": [
    "#Get collectionID and name\n",
    "colId = r.json()[0]['colId']\n",
    "colName = r.json()[0]['colName']\n",
    "print(colName, '/', colId)"
   ]
  },
  {
   "cell_type": "code",
   "execution_count": 6,
   "id": "95b25767",
   "metadata": {},
   "outputs": [],
   "source": [
    "#Get list of documents\n",
    "col_url = 'https://transkribus.eu/TrpServer/rest/collections/'+str(colId)+'/list'\n",
    "r = s.get(col_url)"
   ]
  },
  {
   "cell_type": "code",
   "execution_count": 7,
   "id": "5d5e9bab",
   "metadata": {},
   "outputs": [],
   "source": [
    "docIds = pd.read_csv('DocId.csv')"
   ]
  },
  {
   "cell_type": "code",
   "execution_count": 8,
   "id": "cbcb5c2c",
   "metadata": {},
   "outputs": [
    {
     "name": "stdout",
     "output_type": "stream",
     "text": [
      "170 ita_old Rome/Rome_after_1800/Anatomia per uso dei pittori e scultori/BV001535558\n"
     ]
    }
   ],
   "source": [
    "#test getting the metadata for docid 0\n",
    "\n",
    "test_id = docIds['DocId'][0]\n",
    "metadata_url = 'https://transkribus.eu/TrpServer/rest/collections/'+str(colId)+'/'+str(test_id)+'/metadata'\n",
    "r = s.get(metadata_url)\n",
    "nr_pages, lang, hierarchy = r.json()['nrOfPages'],r.json()['language'], r.json()['hierarchy']\n",
    "\n",
    "print(nr_pages, lang, hierarchy)"
   ]
  },
  {
   "cell_type": "code",
   "execution_count": 9,
   "id": "e2ddb15f",
   "metadata": {},
   "outputs": [],
   "source": [
    "#test getting the transcription for docid 0\n",
    "\n",
    "fulldoc_url = 'https://transkribus.eu/TrpServer/rest/collections/'+str(colId)+'/'+str(test_id)+'/fulldoc'\n",
    "r = s.get(fulldoc_url)"
   ]
  },
  {
   "cell_type": "code",
   "execution_count": 10,
   "id": "a2f01f05",
   "metadata": {},
   "outputs": [],
   "source": [
    "# for now i'll just turn this one XML page to text, idk if the other documents have different xml layouts\n",
    "def page_to_text(dict_page):\n",
    "    soup = BeautifulSoup(dict_page, 'xml')\n",
    "\n",
    "    # may have multiple transcripts of a single page\n",
    "    transcript_urls = soup.find('transcripts').findChildren('url')\n",
    "    transcripts = []\n",
    "    for transcript_url in transcript_urls:\n",
    "        transcript = s.get(transcript_url.text)\n",
    "        soup = BeautifulSoup(transcript.content, 'xml')\n",
    "        words = soup.find_all('Unicode')\n",
    "        transcripts.append(' '.join([word.text for word in words]))\n",
    "    return transcripts\n",
    "\n",
    "                \n"
   ]
  },
  {
   "cell_type": "code",
   "execution_count": 11,
   "id": "e02022ed",
   "metadata": {},
   "outputs": [],
   "source": [
    "def transcribe_book(doc_id):\n",
    "\n",
    "    if os.path.isfile(f'./data/transcripts/{doc_id}.json'):\n",
    "        print(f'File {doc_id}.json exists, skipping...')\n",
    "        return\n",
    "    print(f'transcribing {doc_id}...')\n",
    "    \n",
    "\n",
    "    metadata_url = 'https://transkribus.eu/TrpServer/rest/collections/'+str(colId)+'/'+str(doc_id)+'/metadata'\n",
    "    r = s.get(metadata_url)\n",
    "    nr_pages = r.json()['nrOfPages']\n",
    "    \n",
    "    try:\n",
    "        lang = r.json()['language']\n",
    "    except:\n",
    "        lang = 'Unknown'\n",
    "    \n",
    "    try:\n",
    "        hierarchy = r.json()['hierarchy']\n",
    "    except:\n",
    "        hierarchy = 'Unknown'\n",
    "\n",
    "    book_dict = {'nr_pages': nr_pages, 'language': lang, 'hierarchy': hierarchy, 'pages': []}\n",
    "    for i in tqdm(range(1, nr_pages+1)):\n",
    "        page_url = 'https://transkribus.eu/TrpServer/rest/collections/'+str(colId)+'/'+str(doc_id)+'/'+str(i)\n",
    "        r = s.get(page_url)\n",
    "        book_dict['pages'].append(page_to_text(r.content))\n",
    "\n",
    "    with open(f'./data/transcripts/{doc_id}.json','w') as f:\n",
    "        json.dump(book_dict, f, indent=4)\n",
    "\n",
    "    print(f'Finished transcribing {doc_id}!')\n"
   ]
  },
  {
   "cell_type": "code",
   "execution_count": null,
   "id": "6b23f412",
   "metadata": {},
   "outputs": [],
   "source": [
    "\n",
    "\n"
   ]
  },
  {
   "cell_type": "code",
   "execution_count": 12,
   "id": "25dfb744",
   "metadata": {},
   "outputs": [],
   "source": [
    "## parallelize to the max, but i still think using a DB would be better\n",
    "\n",
    "# mp.freeze_support()\n",
    "# segments = mp.cpu_count() * 2\n",
    "\n",
    "# num_entries = docIds.shape[0]\n",
    "# segment_size = num_entries // segments\n",
    "\n",
    "# splits = [docIds[x:x+segment_size] for x in range(0, len(docIds), segment_size)]\n",
    "\n",
    "# def apply_to_split(split):\n",
    "#     split.apply(transcribe_book, axis=1)\n",
    "\n",
    "# threads = []\n",
    "\n",
    "# for split in splits:\n",
    "#     t = threading.Thread(target=apply_to_split, args=(split,))\n",
    "#     threads.append(t)\n",
    "#     t.start()\n",
    "    \n",
    "# for t in threads:\n",
    "#     t.join()"
   ]
  },
  {
   "cell_type": "code",
   "execution_count": 13,
   "id": "24adaaaf",
   "metadata": {},
   "outputs": [
    {
     "name": "stderr",
     "output_type": "stream",
     "text": [
      "  0%|          | 0/300 [00:00<?, ?it/s]"
     ]
    },
    {
     "name": "stdout",
     "output_type": "stream",
     "text": [
      "87\n",
      "File 825300.json exists, skipping...\n",
      "File 867194.json exists, skipping...\n",
      "transcribing 867195...\n",
      "transcribing 867195...\n"
     ]
    },
    {
     "name": "stderr",
     "output_type": "stream",
     "text": [
      " 52%|█████▏    | 157/300 [00:36<00:51,  2.77it/s]"
     ]
    }
   ],
   "source": [
    "# sequential version\n",
    "print(docIds.shape[0])\n",
    "for doc_id in docIds['DocId']:\n",
    "        transcribe_book(doc_id)\n",
    "\n",
    "    if os.path.isfile(f'./data/transcripts/{doc_id}.json'):\n",
    "        print(f'File {doc_id}.json exists, skipping...')\n",
    "    else: \n",
    "        print(f'transcribing {doc_id}...')\n",
    "        print(f'Finished transcribing {doc_id}!')"
   ]
  },
  {
   "cell_type": "code",
   "execution_count": null,
   "id": "37570c00",
   "metadata": {},
   "outputs": [],
   "source": []
  }
 ],
 "metadata": {
  "kernelspec": {
   "display_name": "Python 3 (ipykernel)",
   "language": "python",
   "name": "python3"
  },
  "language_info": {
   "codemirror_mode": {
    "name": "ipython",
    "version": 3
   },
   "file_extension": ".py",
   "mimetype": "text/x-python",
   "name": "python",
   "nbconvert_exporter": "python",
   "pygments_lexer": "ipython3",
   "version": "3.8.8"
  }
 },
 "nbformat": 4,
 "nbformat_minor": 5
}
