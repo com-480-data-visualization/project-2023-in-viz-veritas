{
 "cells": [
  {
   "cell_type": "code",
   "execution_count": 1,
   "metadata": {},
   "outputs": [],
   "source": [
    "import pandas as pd\n",
    "import random"
   ]
  },
  {
   "cell_type": "code",
   "execution_count": 2,
   "metadata": {},
   "outputs": [],
   "source": [
    "nb_pages = 187\n",
    "\n",
    "df = pd.DataFrame(columns=['page_number', 'valence', 'arousal', 'emotion'])\n",
    "emotions = ['anger', 'disgust', 'fear', 'joy', 'sadness', 'surprise']\n",
    "\n",
    "for i in range(1, nb_pages + 1):\n",
    "    # assign random values for now\n",
    "    valence = random.uniform(-1, 1)\n",
    "    arousal = random.uniform(-1, 1)\n",
    "    emotion = random.choice(emotions)\n",
    "    df = df.append({'page_number': i, 'valence': valence, 'arousal': arousal, 'emotion': emotion}, ignore_index=True)\n",
    "\n",
    "df.to_csv('page_emotions.csv', index=False)\n",
    "\n",
    "\n"
   ]
  }
 ],
 "metadata": {
  "kernelspec": {
   "display_name": "base",
   "language": "python",
   "name": "python3"
  },
  "language_info": {
   "codemirror_mode": {
    "name": "ipython",
    "version": 3
   },
   "file_extension": ".py",
   "mimetype": "text/x-python",
   "name": "python",
   "nbconvert_exporter": "python",
   "pygments_lexer": "ipython3",
   "version": "3.8.8"
  },
  "orig_nbformat": 4
 },
 "nbformat": 4,
 "nbformat_minor": 2
}
