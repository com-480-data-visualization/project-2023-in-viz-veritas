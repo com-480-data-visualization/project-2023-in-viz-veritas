{
 "cells": [
  {
   "cell_type": "code",
   "execution_count": 2,
   "metadata": {},
   "outputs": [
    {
     "name": "stderr",
     "output_type": "stream",
     "text": [
      "[nltk_data] Downloading package maxent_ne_chunker to\n",
      "[nltk_data]     C:\\Users\\hanna\\AppData\\Roaming\\nltk_data...\n",
      "[nltk_data]   Package maxent_ne_chunker is already up-to-date!\n",
      "[nltk_data] Downloading package words to\n",
      "[nltk_data]     C:\\Users\\hanna\\AppData\\Roaming\\nltk_data...\n",
      "[nltk_data]   Package words is already up-to-date!\n",
      "[nltk_data] Downloading package treebank to\n",
      "[nltk_data]     C:\\Users\\hanna\\AppData\\Roaming\\nltk_data...\n",
      "[nltk_data]   Package treebank is already up-to-date!\n",
      "[nltk_data] Downloading package maxent_treebank_pos_tagger to\n",
      "[nltk_data]     C:\\Users\\hanna\\AppData\\Roaming\\nltk_data...\n",
      "[nltk_data]   Package maxent_treebank_pos_tagger is already up-to-\n",
      "[nltk_data]       date!\n",
      "[nltk_data] Downloading package punkt to\n",
      "[nltk_data]     C:\\Users\\hanna\\AppData\\Roaming\\nltk_data...\n",
      "[nltk_data]   Package punkt is already up-to-date!\n",
      "[nltk_data] Downloading package averaged_perceptron_tagger to\n",
      "[nltk_data]     C:\\Users\\hanna\\AppData\\Roaming\\nltk_data...\n",
      "[nltk_data]   Package averaged_perceptron_tagger is already up-to-\n",
      "[nltk_data]       date!\n"
     ]
    },
    {
     "data": {
      "text/plain": [
       "True"
      ]
     },
     "execution_count": 2,
     "metadata": {},
     "output_type": "execute_result"
    }
   ],
   "source": [
    "import pandas as pd\n",
    "import nltk\n",
    "import spacy\n",
    "import locationtagger\n",
    "import json\n",
    "import os\n",
    "import re\n",
    "\n",
    "# essential entity models downloads\n",
    "nltk.downloader.download('maxent_ne_chunker')\n",
    "nltk.downloader.download('words')\n",
    "nltk.downloader.download('treebank')\n",
    "nltk.downloader.download('maxent_treebank_pos_tagger')\n",
    "nltk.downloader.download('punkt')\n",
    "nltk.download('averaged_perceptron_tagger')\n"
   ]
  },
  {
   "cell_type": "code",
   "execution_count": 3,
   "metadata": {},
   "outputs": [],
   "source": [
    "df = pd.DataFrame([], columns=['book_id', 'hierarchy', 'language', 'nr_pages', 'word_count'])\n",
    "\n",
    "path = 'data/transcripts/no_doubles/'\n",
    "\n",
    "for filename in os.listdir(path):\n",
    "    book = json.load(open(path + filename))\n",
    "    data = {'book_id': filename.replace('.json', ''),\n",
    "            'hierarchy': book['hierarchy'],\n",
    "            'language': book['language'],\n",
    "            'nr_pages': len(book['pages'])}\n",
    "    \n",
    "    \n",
    "    # get the word count per book:\n",
    "    data['word_count'] = 0\n",
    "    for page in book['pages']:\n",
    "        # if there are multiple transcriptions, we don't know which one to use\n",
    "        if len(page) > 1:\n",
    "            print('MULTIPLE TRANSCRIPTIONS FOUND: ' + filename)\n",
    "            break\n",
    "        else:\n",
    "            p = page[0]\n",
    "            for sentence in p:\n",
    "                # remove all non-alphabetic characters\n",
    "                data['word_count'] += len(re.sub('[^a-zA-Z ]+', '', sentence).split())\n",
    "\n",
    "    data=pd.DataFrame(data, index=[0])\n",
    "    df = pd.concat([df, data], axis=0, ignore_index=True)"
   ]
  },
  {
   "cell_type": "code",
   "execution_count": 8,
   "metadata": {},
   "outputs": [],
   "source": [
    "meta_df = pd.read_csv('data/travel_df.csv', index_col =False)"
   ]
  },
  {
   "attachments": {},
   "cell_type": "markdown",
   "metadata": {},
   "source": [
    "# John Bell example exploration"
   ]
  },
  {
   "cell_type": "code",
   "execution_count": 16,
   "metadata": {},
   "outputs": [],
   "source": [
    "john_bell_df = meta_df[meta_df['author'] == 'Bell, John']\n",
    "\n",
    "path = 'data/transcripts/no_doubles/'\n",
    "\n",
    "john_bell_texts = {}\n",
    "\n",
    "\n",
    "for bookid in john_bell_df.book_id:\n",
    "    filename = path + str(bookid) + '.json'\n",
    "\n",
    "    book = json.load(open(filename))\n",
    "\n",
    "    text = []\n",
    "\n",
    "    for page in book['pages']:\n",
    "        # if there are multiple transcriptions, we don't know which one to use\n",
    "        if len(page) > 1:\n",
    "            print('MULTIPLE TRANSCRIPTIONS FOUND: ' + filename)\n",
    "            break\n",
    "        else:\n",
    "            if(page != ''):\n",
    "                text += page\n",
    "\n",
    "    john_bell_texts[bookid] =  text"
   ]
  },
  {
   "cell_type": "code",
   "execution_count": null,
   "metadata": {},
   "outputs": [],
   "source": []
  }
 ],
 "metadata": {
  "kernelspec": {
   "display_name": "ada",
   "language": "python",
   "name": "python3"
  },
  "language_info": {
   "codemirror_mode": {
    "name": "ipython",
    "version": 3
   },
   "file_extension": ".py",
   "mimetype": "text/x-python",
   "name": "python",
   "nbconvert_exporter": "python",
   "pygments_lexer": "ipython3",
   "version": "3.8.11"
  },
  "orig_nbformat": 4
 },
 "nbformat": 4,
 "nbformat_minor": 2
}
