{
 "cells": [
  {
   "cell_type": "code",
   "execution_count": 2,
   "metadata": {},
   "outputs": [
    {
     "name": "stderr",
     "output_type": "stream",
     "text": [
      "[nltk_data] Downloading package maxent_ne_chunker to\n",
      "[nltk_data]     C:\\Users\\hanna\\AppData\\Roaming\\nltk_data...\n",
      "[nltk_data]   Package maxent_ne_chunker is already up-to-date!\n",
      "[nltk_data] Downloading package words to\n",
      "[nltk_data]     C:\\Users\\hanna\\AppData\\Roaming\\nltk_data...\n",
      "[nltk_data]   Package words is already up-to-date!\n",
      "[nltk_data] Downloading package treebank to\n",
      "[nltk_data]     C:\\Users\\hanna\\AppData\\Roaming\\nltk_data...\n",
      "[nltk_data]   Package treebank is already up-to-date!\n",
      "[nltk_data] Downloading package maxent_treebank_pos_tagger to\n",
      "[nltk_data]     C:\\Users\\hanna\\AppData\\Roaming\\nltk_data...\n",
      "[nltk_data]   Package maxent_treebank_pos_tagger is already up-to-\n",
      "[nltk_data]       date!\n",
      "[nltk_data] Downloading package punkt to\n",
      "[nltk_data]     C:\\Users\\hanna\\AppData\\Roaming\\nltk_data...\n",
      "[nltk_data]   Package punkt is already up-to-date!\n",
      "[nltk_data] Downloading package averaged_perceptron_tagger to\n",
      "[nltk_data]     C:\\Users\\hanna\\AppData\\Roaming\\nltk_data...\n",
      "[nltk_data]   Package averaged_perceptron_tagger is already up-to-\n",
      "[nltk_data]       date!\n"
     ]
    },
    {
     "data": {
      "text/plain": [
       "True"
      ]
     },
     "execution_count": 2,
     "metadata": {},
     "output_type": "execute_result"
    }
   ],
   "source": [
    "import pandas as pd\n",
    "import nltk\n",
    "import spacy\n",
    "import locationtagger\n",
    "import json\n",
    "import os\n",
    "import re\n",
    "\n",
    "# essential entity models downloads\n",
    "nltk.downloader.download('maxent_ne_chunker')\n",
    "nltk.downloader.download('words')\n",
    "nltk.downloader.download('treebank')\n",
    "nltk.downloader.download('maxent_treebank_pos_tagger')\n",
    "nltk.downloader.download('punkt')\n",
    "nltk.download('averaged_perceptron_tagger')\n"
   ]
  },
  {
   "cell_type": "code",
   "execution_count": 3,
   "metadata": {},
   "outputs": [],
   "source": [
    "df = pd.DataFrame([], columns=['book_id', 'hierarchy', 'language', 'nr_pages', 'word_count'])\n",
    "\n",
    "path = 'data/transcripts/no_doubles/'\n",
    "\n",
    "for filename in os.listdir(path):\n",
    "    book = json.load(open(path + filename))\n",
    "    data = {'book_id': filename.replace('.json', ''),\n",
    "            'hierarchy': book['hierarchy'],\n",
    "            'language': book['language'],\n",
    "            'nr_pages': len(book['pages'])}\n",
    "    \n",
    "    \n",
    "    # get the word count per book:\n",
    "    data['word_count'] = 0\n",
    "    for page in book['pages']:\n",
    "        # if there are multiple transcriptions, we don't know which one to use\n",
    "        if len(page) > 1:\n",
    "            print('MULTIPLE TRANSCRIPTIONS FOUND: ' + filename)\n",
    "            break\n",
    "        else:\n",
    "            p = page[0]\n",
    "            for sentence in p:\n",
    "                # remove all non-alphabetic characters\n",
    "                data['word_count'] += len(re.sub('[^a-zA-Z ]+', '', sentence).split())\n",
    "\n",
    "    data=pd.DataFrame(data, index=[0])\n",
    "    df = pd.concat([df, data], axis=0, ignore_index=True)"
   ]
  },
  {
   "cell_type": "code",
   "execution_count": 8,
   "metadata": {},
   "outputs": [],
   "source": [
    "meta_df = pd.read_csv('data/travel_df.csv', index_col =False)"
   ]
  },
  {
   "attachments": {},
   "cell_type": "markdown",
   "metadata": {},
   "source": [
    "# John Bell example exploration"
   ]
  },
  {
   "cell_type": "code",
   "execution_count": 55,
   "metadata": {},
   "outputs": [],
   "source": [
    "# Getting all the texts by John Bell in a dataframe\n",
    "\n",
    "john_bell_df = meta_df[meta_df['author'] == 'Bell, John']\n",
    "\n",
    "path = 'data/transcripts/no_doubles/'\n",
    "\n",
    "#dictionary containing the bookid and a list of text \n",
    "\n",
    "john_bell_texts = {}\n",
    "\n",
    "\n",
    "for bookid in john_bell_df.book_id:\n",
    "    filename = path + str(bookid) + '.json'\n",
    "\n",
    "    book = json.load(open(filename))\n",
    "\n",
    "    text = []\n",
    "\n",
    "    for page in book['pages']:\n",
    "        # if there are multiple transcriptions, we don't know which one to use\n",
    "        if len(page) > 1:\n",
    "            print('MULTIPLE TRANSCRIPTIONS FOUND: ' + filename)\n",
    "            break\n",
    "        else:\n",
    "            if(page != ''):\n",
    "                text += page\n",
    "\n",
    "    john_bell_texts[bookid] = {'text': text}"
   ]
  },
  {
   "cell_type": "code",
   "execution_count": 63,
   "metadata": {},
   "outputs": [],
   "source": [
    "# building a dictionary mapping page numbers to mentions of cities\n",
    "\n",
    "\n",
    "for id in john_bell_texts: \n",
    "    \n",
    "    for i in range(len(john_bell_texts[id]['text'])):\n",
    "        # print(john_bell_texts[id])\n",
    "        text = john_bell_texts[id]['text'][i]\n",
    "\n",
    "        if(text != ''):\n",
    "            # find locations per page\n",
    "\n",
    "            place_entity = locationtagger.find_locations(text = text)\n",
    "\n",
    "            #add cities to dictionary\n",
    "\n",
    "            john_bell_texts[id]['cities'][i] = place_entity.cities\n"
   ]
  },
  {
   "cell_type": "code",
   "execution_count": 65,
   "metadata": {},
   "outputs": [
    {
     "data": {
      "text/plain": [
       "dict_values([[], [], [], ['Edinburgh', 'London', 'Bell', 'Royal', 'Strand'], [], ['Bell'], [], ['Rome', 'Roman', 'Paris', 'Italy'], ['Italy'], ['Florence', 'England'], ['Florence', 'Rome', 'Canova', 'German'], [], [], [], ['Paris', 'Fontainebleau', 'Italy'], ['Lyons', 'Paris', 'Macon', 'Fontainebleau', 'Saone'], ['Lyons', 'Macon', 'Saone'], ['Lyons', 'Savoy', 'Autun', 'Mont', 'Saone'], ['Lyons', 'Roman', 'Mont', 'Saone'], ['Lyons', 'Roman', 'Paris', 'Forum', 'Philip', 'Caracal'], ['Lyons', 'Leglise', 'Saone'], ['Lyons', 'Paris', 'Temple', 'Notre Dame'], ['Manchester', 'Lyons', 'Bridge', 'Ville'], ['Lyons', 'Clovis'], ['Lyons'], ['Lyons', 'Pierre', 'Pont', 'Saone', 'Nine'], ['Lyons', 'Roman', 'Le Pont'], ['Lyons', 'Morrow', 'Ed', 'Field'], ['Lyons'], ['Lyons', 'Bron', 'Dauphin', 'Belair'], ['Lyons'], ['Lyons', 'Roman', 'Romans'], ['Lyons', 'Leglise', 'German'], ['Lyons', 'Leglise'], ['Four', 'English'], [], ['Lyons', 'Roman', 'Eastern', 'Pont'], ['Lyons', 'Paris', 'Savoy', 'Mont', 'Saone'], ['Lyons'], ['Beauvoisin', 'Pont'], ['Savoy', 'Duke'], [], ['Savoy'], ['Arco', 'Vale', 'Jean', 'Savoy', 'Arche'], ['Bourg', 'Arco', 'Vale'], ['Bourg', 'Arco', 'Vale', 'Alpine', 'Savoy', 'Val'], ['Arco', 'Vale', 'Mont'], ['Italy', 'Mont'], ['Bush'], ['Bush', 'Mont'], ['Savoy', 'Les Echelles', 'Mont'], ['Hills', 'Mont'], ['Piedmont'], ['Roman'], ['Florence', 'Arco', 'Rivoli', 'Alpine', 'Piedmont', 'Doria'], ['Turin', 'Rivoli', 'Doria'], ['Rivoli', 'Lyons', 'Paris', 'Notre Dame', 'Italy', 'Coleridge'], ['Rivoli', 'Grenoble', 'Nice', 'Marseilles', 'Italy'], ['Turin', 'Rivoli'], ['Turin', 'Porta'], ['Turin'], ['Ed'], [], [], ['Turin', 'House'], ['Turin', 'Genoa'], ['Bologna', 'Rome', 'Savoy', 'Alnwick', 'Northumberland', 'Sardinia', 'Duke'], ['Turin', 'Church', 'House'], ['Madonna', 'Virgin', 'Santa Lucia'], ['Calvin', 'Four'], ['Corpus Christi', 'Margaret', 'Calvin'], ['Turin'], ['Turin', 'Piedmont', 'God', 'Philip', 'Duke', 'Ed'], ['Turin'], ['Milan', 'Turin', 'Vercelli'], ['Bologna', 'Milan', 'Florence', 'Parma', 'Pavia', 'Placentia', 'Miles'], ['Milan'], [], [], ['Milan', 'God', 'Italy', 'Pellegrini', 'Frederic'], ['Eu'], ['Four'], ['Salisbury', 'York', 'Westminster', 'Church', 'Four'], [], ['Ed', 'Midnight'], ['Milan', 'Four', 'Al', 'Marcus'], ['Vinci', 'Leonardo'], ['Milan', 'Vinci', 'Duke'], ['Vinci', 'Leonardo'], ['Vinci', 'Leonardo'], ['Vinci', 'Leonardo', 'Duke'], ['Vinci', 'Leonardo', 'Duke'], ['Milan', 'Vinci'], ['Milan', 'Italy'], ['Milan', 'Paris', 'Castello', 'Arch'], ['Milan', 'Santa Maria', 'Arena', 'Sarah'], ['Milan', 'Pavia', 'Sarah'], ['Milan', 'Pavia', 'Egypt', 'Duke', 'Italy'], ['Piedmont', 'Four'], ['Pavia', 'Bourbon', 'Assumption', 'Francis', 'Charles'], ['Pavia', 'Italy'], ['Pavia', 'Charlemagne'], ['Pavia', 'Four'], ['Pavia'], ['Pavia'], ['Milan', 'Savoy', 'Ed'], ['Pavia', 'Roman'], ['Genoa', 'Pavia', 'Voghera', 'Us'], ['Placentia'], ['Piacenza', 'Florence', 'Placentia', 'Scotland'], ['Placentia', 'Moca', 'Castello', 'Camilla', 'Campo', 'Piazza', 'Romans'], ['Placentia'], ['Placentia'], ['Italy', 'Ed'], ['Assumption', 'Virgin', 'David'], ['Parma', 'Paris', 'Joseph', 'Mary'], ['Rome', 'Parma', 'Paris', 'Placentia', 'Virgin'], ['Placentia', 'Mons'], ['Milan', 'Parma', 'Vienna', 'Placentia', 'Charlemagne', 'Duke', 'Italy', 'Pepin', 'Congress', 'Pope'], ['Parma', 'Vista', 'Italy', 'Ed'], ['London', 'Milan', 'Turin', 'Parma', 'Pavia', 'Correggio', 'Paris', 'Al', 'Lieto'], ['Rome', 'Parma', 'Correggio', 'Assumption'], ['Correggio', 'Placentia', 'Virgin', 'Coronation'], [], ['Correggio', 'Joseph', 'Mary', 'Virgin'], ['Correggio', 'Joseph', 'Mary', 'Cross', 'Virgin'], ['Joseph', 'Mary', 'Cross', 'Virgin'], ['Correggio', 'Egypt', 'Madonna', 'Joseph', 'Mary', 'Virgin', 'Four'], ['Mary', 'Cross', 'Santa Flavia'], ['Correggio', 'Paul', 'Virgin', 'Diana', 'Ascension', 'Abbey'], ['Parma', 'Duke', 'Italy'], ['Parma', 'Correggio', 'Four'], ['Parma', 'Italy', 'Ed'], ['Parma', 'Italy', 'English'], ['Italy'], ['Modena', 'Placentia', 'Piedmont'], ['Modena', 'Correggio', 'Lomazzo', 'Dresden', 'Pembroke', 'San Prospero', 'Richardson', 'Duke', 'Guido', 'Secchia'], ['Modena', 'Mantua', 'Lake', 'Italy'], ['Bologna', 'Modena'], ['Bologna'], [], ['Bologna', 'Institute', 'Ed', 'Guido', 'Al'], ['Rosario', 'Madonna', 'Cross', 'Virgin', 'Pope'], ['Imola', 'Virgin', 'Grand'], ['Imola'], ['Maria', 'Jesus', 'Sol'], ['Virgin'], ['Paul', 'God', 'Cecilia'], ['Bologna', 'Sebastian', 'Twain'], ['Apollo'], ['Samson'], ['Mary', 'Virgin', 'Guido'], ['Jupiter', 'Hercules', 'Eagle', 'Ceres', 'Palazzo'], ['Hercules', 'Atlas'], ['Hercules'], ['Bologna'], ['Guido'], ['Mary', 'Guido'], ['Bologna', 'Milan', 'Bo', 'Virgin'], ['Ferrara', 'Modena', 'Mantua', 'Madonna', 'Virgin'], ['Bologna', 'Madonna', 'Four'], ['Bologna', 'Versailles', 'Papa', 'Gregory', 'Four'], ['Bologna', 'Florence', 'Highland', 'Panora'], ['Verona', 'Milan', 'Florence', 'Turin', 'Padua', 'Panora'], ['Florence'], ['York', 'Florence'], ['Florence', 'Square'], ['Florence'], ['Florence', 'Italy', 'House'], ['Roman'], ['Florence'], ['Florence', 'Alexander'], ['Florence', 'Justice', 'Guelph', 'Duke', 'Ed'], ['Florence', 'Italy', 'Midnight'], ['Florence'], ['Four'], [], ['Lorenzo'], ['Florence', 'Athens', 'Lorenzo'], ['Florence'], [], [], ['Florence', 'San Michele'], ['Ed', 'Palazzo'], [], ['Santa Croce'], [], ['Florence'], [], [], [], ['Palazzo'], ['Vacha'], ['Florence', 'Hercules', 'Marble', 'Fiesole'], [], ['Florence', 'Pisa'], ['Florence', 'Hercules', 'Charles', 'Prince', 'Pope'], ['Hercules'], ['Four', 'Eve', 'Prince'], [], ['Vinci', 'Leonardo', 'Lorenzo'], ['Florence', 'Four'], ['Milan', 'Florence', 'Santa Maria', 'Church', 'Fiore'], ['Milan', 'Four'], ['Florence', 'Turin', 'English'], [], [], ['Joseph', 'Virgin', 'Four'], ['Joseph', 'Virgin'], ['Florence'], ['Ed'], [], ['Florence', 'Piazza'], ['Madonna', 'Tower', 'Michael'], ['Egypt', 'Tower', 'Michael'], ['Bologna', 'George', 'Mark', 'Tower', 'Michael'], ['Temple', 'Joseph', 'Mary', 'Virgin', 'Poppi', 'Tower', 'Michael'], ['Castle', 'Tower', 'Michael'], ['Florence', 'Tower', 'Michael'], ['Milan', 'Florence', 'Lucca', 'Duke', 'Badia', 'Tower', 'Michael'], ['Naples', 'Richard', 'Duke', 'Tower', 'Michael'], ['Richard', 'Council', 'Tower', 'Michael', 'Vita'], ['Tower', 'Michael'], ['Florence', 'Palazzo', 'Tower', 'Michael'], ['Michael'], ['Ed'], [], ['Paris'], ['Florence', 'Santa Croce', 'Piazza'], ['Florence', 'Piazza'], [], ['Florence'], [], ['Bologna', 'Rome', 'Hercules', 'Four', 'David'], [], ['Medusa'], ['Florence', 'Hercules', 'Palazzo', 'Square', 'David', 'Alberti', 'Michael'], ['Bologna', 'Siena', 'Four'], ['David'], [], ['Florence', 'San Lorenzo'], ['Florence', 'Arezzo', 'Ferdinand'], ['Leo'], ['Aurora', 'Julian', 'Lorenzo'], ['Julian', 'Ed', 'Lorenzo'], ['Julian', 'Lorenzo'], [], ['Elizabeth', 'Madonna', 'Joseph', 'Virgin'], ['Madonna', 'Rossi'], ['Mary'], ['Empoli', 'Bo', 'Virgin', 'Four'], ['Four'], ['Paul', 'Santa', 'Alberti'], ['Maria', 'Virgin', 'Santo'], ['Bologna', 'Virgin', 'Santo'], ['West', 'Omega', 'Alpha', 'Santa'], ['Santo', 'Croce'], ['San Lorenzo', 'Assumption', 'Cross', 'Virgin', 'Rebecca', 'Eve', 'Coronation', 'Croce'], ['Canova', 'Croce'], ['Italy', 'Croce'], ['Croce', 'Lorenzo'], ['Roman', 'Four', 'Croce'], ['Italy'], [], ['Rome'], [], [], [], [], [], [], ['Cave'], ['Herculaneum', 'Pompeii'], ['Hercules'], ['Hercules'], ['Apollo', 'Hercules'], ['Paris'], ['Apollo'], [], [], [], [], [], ['Roman', 'Versailles'], [], ['Hercules'], ['Jupiter', 'Alexander'], ['Vase'], ['Four'], ['Apollo'], ['Florence', 'Apollo', 'Mars'], ['Tribune', 'Mermaid'], ['Bologna', 'Venus', 'Tribune', 'Four'], ['Rome', 'Virgin', 'Tribune'], ['Guido'], ['Michael'], [], [], [], ['Venus', 'Four'], ['Florence', 'Tivoli', 'Venus'], [], ['Florence', 'Venus'], ['Florence', 'Venus', 'Canova', 'Horace', 'Arena'], [], ['Niobe', 'Hall'], [], ['Niobe'], [], ['Bo', 'Guido'], ['Hall'], ['Florence'], ['Florence'], ['Florence'], ['Florence', 'Bell', 'Moon', 'Ed'], ['Florence', 'Arco', 'Italy', 'Ed'], ['Florence'], ['God', 'Virgin', 'House'], ['Brethren'], [], [], ['Florence'], ['Florence', 'Fiesole'], ['Fiesole'], ['Fiesole'], ['Rome', 'Campagna', 'Cecilia'], ['Florence', 'Rome', 'Venice', 'West', 'Palmyra', 'Roma', 'Bagdad', 'Tower', 'Titus'], ['Rome', 'Brindisi', 'Capua', 'Roman', 'Ed', 'Porta', 'Cara', 'Otranto', 'Apulia'], [], ['Egypt', 'Cecilia', 'Porta'], ['Rome', 'Campagna', 'Cecilia'], ['Meta', 'Spina'], ['Lyons', 'Four', 'Romans'], [], ['Rome', 'Campagna'], ['Roman'], ['Rome', 'Scotland'], [], [], ['Apollo'], [], [], [], ['Venus'], [], [], ['Apollo'], [], ['Bologna'], ['Four'], ['Apollo', 'San Pietro', 'Mos'], ['Rome', 'San Pietro', 'Mos'], ['Bath', 'Hercules', 'Venus', 'Four', 'Nine'], [], ['Rome'], ['Rome', 'Midnight', 'Pope'], ['Jeremiah', 'Pope'], ['Pope'], ['Four', 'Pope'], ['Pope'], ['Campagna', 'Pope'], ['Pope'], [], [], [], ['Rome'], ['Lent'], ['Rome', 'Mora'], [], [], [], ['Edinburgh', 'Florence', 'Italy'], ['Ponte', 'Piazza', 'Badia', 'Tower']])"
      ]
     },
     "execution_count": 65,
     "metadata": {},
     "output_type": "execute_result"
    }
   ],
   "source": [
    "john_bell_texts[856820]['cities']"
   ]
  },
  {
   "cell_type": "code",
   "execution_count": null,
   "metadata": {},
   "outputs": [],
   "source": []
  }
 ],
 "metadata": {
  "kernelspec": {
   "display_name": "ada",
   "language": "python",
   "name": "python3"
  },
  "language_info": {
   "codemirror_mode": {
    "name": "ipython",
    "version": 3
   },
   "file_extension": ".py",
   "mimetype": "text/x-python",
   "name": "python",
   "nbconvert_exporter": "python",
   "pygments_lexer": "ipython3",
   "version": "3.8.11"
  },
  "orig_nbformat": 4
 },
 "nbformat": 4,
 "nbformat_minor": 2
}
