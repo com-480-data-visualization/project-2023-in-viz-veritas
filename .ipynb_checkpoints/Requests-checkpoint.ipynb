{
 "cells": [
  {
   "cell_type": "code",
   "execution_count": 1,
   "id": "e3daec9c",
   "metadata": {},
   "outputs": [],
   "source": [
    "import requests\n",
    "import pandas as pd"
   ]
  },
  {
   "cell_type": "code",
   "execution_count": 2,
   "id": "f4ea5c3d",
   "metadata": {},
   "outputs": [
    {
     "name": "stdout",
     "output_type": "stream",
     "text": [
      "<Response [200]>\n"
     ]
    }
   ],
   "source": [
    "#create Session and authenticate\n",
    "s = requests.Session()\n",
    "\n",
    "#authentication for transkribus API\n",
    "url = 'https://transkribus.eu/TrpServer/rest/auth/login'\n",
    "\n",
    "#Yes, I know. You can see my password. Just don't do anything stupid with it please ok. Thanks\n",
    "auth = {'user': 'hannah.casey@epfl.ch', 'pw':'ZqYI5nDW29VjukNWoUHt'}\n",
    "r = s.post(url, data=auth)\n",
    "print(r)"
   ]
  },
  {
   "cell_type": "code",
   "execution_count": 3,
   "id": "4f760654",
   "metadata": {},
   "outputs": [
    {
     "name": "stdout",
     "output_type": "stream",
     "text": [
      "[{'type': 'trpCollection', 'colId': 124423, 'colName': 'Hertziana_Read&Search', 'description': 'created by guenter.hackl@transkribus.eu', 'crowdsourcing': False, 'elearning': False, 'pageId': 30709409, 'url': 'https://files.transkribus.eu/Get?fileType=view&id=DTWJIGLNLUSXZUZAWUJXDEBP', 'thumbUrl': 'https://files.transkribus.eu/Get?fileType=thumb&id=DTWJIGLNLUSXZUZAWUJXDEBP', 'nrOfDocuments': 3846, 'role': 'Editor', 'accountingStatus': 1}, {'type': 'trpCollection', 'colId': 192720, 'colName': 'hannah.casey@epfl.ch Collection', 'description': 'hannah.casey@epfl.ch', 'crowdsourcing': False, 'elearning': False, 'pageId': 53243366, 'url': 'https://files.transkribus.eu/Get?fileType=view&id=DAEQZNPMDNXLWKBWOHOHPWDD', 'thumbUrl': 'https://files.transkribus.eu/Get?fileType=thumb&id=DAEQZNPMDNXLWKBWOHOHPWDD', 'nrOfDocuments': 1, 'role': 'Owner', 'accountingStatus': 1}]\n"
     ]
    }
   ],
   "source": [
    "#See collections \n",
    "url = 'https://transkribus.eu/TrpServer/rest/collections/list'\n",
    "r = s.get(url,data=auth)\n",
    "print(r.json())"
   ]
  },
  {
   "cell_type": "code",
   "execution_count": 4,
   "id": "960272a1",
   "metadata": {},
   "outputs": [
    {
     "name": "stdout",
     "output_type": "stream",
     "text": [
      "Hertziana_Read&Search / 124423\n"
     ]
    }
   ],
   "source": [
    "#Get collectionID and name\n",
    "colId = r.json()[0]['colId']\n",
    "colName = r.json()[0]['colName']\n",
    "print(colName, '/', colId)"
   ]
  },
  {
   "cell_type": "code",
   "execution_count": 5,
   "id": "e36af713",
   "metadata": {},
   "outputs": [],
   "source": [
    "#Get list of documents\n",
    "url = 'https://transkribus.eu/TrpServer/rest/collections/'+str(colId)+'/list'\n",
    "r = s.get(url)"
   ]
  },
  {
   "cell_type": "code",
   "execution_count": 6,
   "id": "6f8e2c97",
   "metadata": {},
   "outputs": [],
   "source": [
    "docIds = pd.read_csv('DocId.csv')\n",
    "docIds.drop(docIds.columns[0], axis=1, inplace= True)"
   ]
  },
  {
   "cell_type": "code",
   "execution_count": 32,
   "id": "92e55aaa",
   "metadata": {},
   "outputs": [
    {
     "name": "stdout",
     "output_type": "stream",
     "text": [
      "170 ita_old Rome/Rome_after_1800/Anatomia per uso dei pittori e scultori/BV001535558\n"
     ]
    }
   ],
   "source": [
    "#test getting the metadata for docid 0\n",
    "\n",
    "test_id = docIds['DocId'][0]\n",
    "url = 'https://transkribus.eu/TrpServer/rest/collections/'+str(colId)+'/'+str(test_id)+'/metadata'\n",
    "r = s.get(url)\n",
    "nr_pages, lang, hierarchy = r.json()['nrOfPages'],r.json()['language'], r.json()['hierarchy']\n",
    "\n",
    "print(nr_pages, lang, hierarchy)"
   ]
  },
  {
   "cell_type": "code",
   "execution_count": 26,
   "id": "ea15513d",
   "metadata": {},
   "outputs": [
    {
     "name": "stdout",
     "output_type": "stream",
     "text": [
      "{'type': 'trpDocMetadata', 'docId': 825300, 'title': 'Anatomia per uso dei pittori e scultori', 'author': 'Medico, Giuseppe del', 'uploadTimestamp': 1636100044797, 'uploader': 'guenter.hackl@transkribus.eu', 'uploaderId': 206, 'nrOfPages': 170, 'pageId': 30740209, 'url': 'https://files.transkribus.eu/Get?fileType=view&id=DDSPJHJZUTVABQYQOADVKNQA', 'thumbUrl': 'https://files.transkribus.eu/Get?fileType=thumb&id=DDSPJHJZUTVABQYQOADVKNQA', 'externalId': 'BV001535558', 'hierarchy': 'Rome/Rome_after_1800/Anatomia per uso dei pittori e scultori/BV001535558', 'desc': 'filename: Bb220-4110\\nauthor: Medico, Giuseppe del\\nplace: Roma\\ncomment: Legacy scans with QC issues\\nshelf: Bb 220-4110 gr raro\\nlang: ita_old\\n', 'language': 'ita_old', 'status': 0, 'fimgStoreColl': 'TrpDoc_DEA_825300', 'createdFromTimestamp': -5017597200000, 'origDocId': 0, 'collectionList': {'colList': [{'colId': 124423, 'colName': 'Hertziana_Read&Search', 'description': 'created by guenter.hackl@transkribus.eu', 'crowdsourcing': False, 'elearning': False, 'nrOfDocuments': 0}]}}\n"
     ]
    }
   ],
   "source": [
    "print(r.json())"
   ]
  },
  {
   "cell_type": "code",
   "execution_count": null,
   "id": "a2ca275c",
   "metadata": {},
   "outputs": [],
   "source": []
  }
 ],
 "metadata": {
  "kernelspec": {
   "display_name": "Python 3 (ipykernel)",
   "language": "python",
   "name": "python3"
  },
  "language_info": {
   "codemirror_mode": {
    "name": "ipython",
    "version": 3
   },
   "file_extension": ".py",
   "mimetype": "text/x-python",
   "name": "python",
   "nbconvert_exporter": "python",
   "pygments_lexer": "ipython3",
   "version": "3.8.11"
  }
 },
 "nbformat": 4,
 "nbformat_minor": 5
}
