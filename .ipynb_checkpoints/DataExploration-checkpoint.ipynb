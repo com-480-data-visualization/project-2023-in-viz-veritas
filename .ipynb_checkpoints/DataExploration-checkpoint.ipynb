{
 "cells": [
  {
   "cell_type": "code",
   "execution_count": 1,
   "id": "ebd692f5",
   "metadata": {},
   "outputs": [],
   "source": [
    "import pandas as pd"
   ]
  },
  {
   "cell_type": "markdown",
   "id": "8239ebfe",
   "metadata": {},
   "source": [
    "# Data Importing\n",
    "\n",
    "\n",
    "> ## holdings\n",
    ">> holds information about all documents sent to transkribus from the Bibliotheca Hertziana. "
   ]
  },
  {
   "cell_type": "markdown",
   "id": "f7972398",
   "metadata": {},
   "source": [
    "> ## export_Travel\n",
    ">> holds information about the Travel Book documents from the BH. Not all of them are transcribed. "
   ]
  },
  {
   "cell_type": "code",
   "execution_count": 2,
   "id": "e372b700",
   "metadata": {
    "scrolled": false
   },
   "outputs": [],
   "source": [
    "holdings = pd.read_csv(\"data/holdings.csv\", sep='|', on_bad_lines='skip')\n",
    "export_travel = pd.read_csv('data/export_Travel.csv',sep=';',encoding= 'unicode_escape',on_bad_lines='skip')\n",
    "\n",
    "# transform the filename\n",
    "holdings['filename'] = holdings['filename'].str.replace('-','').str.lower()\n",
    "\n",
    "#clean date column\n",
    "holdings.rename(columns={'date;;;;;;;;;;;;;;;;;;;': 'date'}, inplace=True)\n",
    "holdings.date = holdings.date.str.replace(';','')\n",
    "\n",
    "\n",
    "#Join the two on filename\n",
    "travel_books = export_travel.merge(holdings, on=['filename','author','title'],)\n"
   ]
  },
  {
   "cell_type": "code",
   "execution_count": 3,
   "id": "c8cdb417",
   "metadata": {},
   "outputs": [],
   "source": [
    "#Filter for documents that are transcribed\n",
    "#DocId are the Ids on transkribus, hence, if they are missing, the document has not been transcribed\n",
    "travel_books = travel_books[travel_books['DocId'].notna()]"
   ]
  },
  {
   "cell_type": "code",
   "execution_count": 8,
   "id": "346c9a97",
   "metadata": {},
   "outputs": [],
   "source": [
    "#Export docIds for the rest API data gathering\n",
    "travel_books['DocId'].astype(int).to_csv('DocId.csv')"
   ]
  },
  {
   "cell_type": "code",
   "execution_count": null,
   "id": "d1b11ce2",
   "metadata": {},
   "outputs": [],
   "source": []
  }
 ],
 "metadata": {
  "kernelspec": {
   "display_name": "Python 3 (ipykernel)",
   "language": "python",
   "name": "python3"
  },
  "language_info": {
   "codemirror_mode": {
    "name": "ipython",
    "version": 3
   },
   "file_extension": ".py",
   "mimetype": "text/x-python",
   "name": "python",
   "nbconvert_exporter": "python",
   "pygments_lexer": "ipython3",
   "version": "3.8.11"
  }
 },
 "nbformat": 4,
 "nbformat_minor": 5
}
