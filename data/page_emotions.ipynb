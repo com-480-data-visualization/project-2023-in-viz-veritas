{
 "cells": [
  {
   "cell_type": "code",
   "execution_count": 22,
   "metadata": {},
   "outputs": [
    {
     "name": "stderr",
     "output_type": "stream",
     "text": [
      "[nltk_data] Downloading package vader_lexicon to\n",
      "[nltk_data]     C:\\Users\\wengl\\AppData\\Roaming\\nltk_data...\n",
      "[nltk_data]   Package vader_lexicon is already up-to-date!\n",
      "[nltk_data] Downloading package punkt to\n",
      "[nltk_data]     C:\\Users\\wengl\\AppData\\Roaming\\nltk_data...\n",
      "[nltk_data]   Package punkt is already up-to-date!\n"
     ]
    },
    {
     "data": {
      "text/plain": [
       "True"
      ]
     },
     "execution_count": 22,
     "metadata": {},
     "output_type": "execute_result"
    }
   ],
   "source": [
    "import pandas as pd\n",
    "import nltk\n",
    "import json\n",
    "\n",
    "nltk.download('vader_lexicon')\n",
    "nltk.download('punkt')\n"
   ]
  },
  {
   "cell_type": "code",
   "execution_count": 23,
   "metadata": {},
   "outputs": [],
   "source": [
    "from nltk.sentiment import SentimentIntensityAnalyzer\n",
    "\n",
    "def get_sentiment_scores(text):\n",
    "    sid = SentimentIntensityAnalyzer()\n",
    "    sentiment_scores = sid.polarity_scores(text)\n",
    "    valence = sentiment_scores['compound']\n",
    "    arousal = sentiment_scores['pos'] - sentiment_scores['neg']\n",
    "    return valence, arousal\n",
    "\n"
   ]
  },
  {
   "cell_type": "code",
   "execution_count": 24,
   "metadata": {},
   "outputs": [],
   "source": [
    "# TODO: this labelling might need some tweaking\n",
    "def assign_emotion(valence, arousal):\n",
    "    if valence >= 0.7:\n",
    "        if arousal >= 0.7:\n",
    "            emotion = \"Excited\"\n",
    "        elif arousal >= 0.4:\n",
    "            emotion = \"Happy\"\n",
    "        elif arousal >= 0.1:\n",
    "            emotion = \"Content\"\n",
    "        elif arousal >= -0.1:\n",
    "            emotion = \"Relaxed\"\n",
    "        elif arousal >= -0.4:\n",
    "            emotion = \"Disgusted\"\n",
    "        elif arousal >= -0.7:\n",
    "            emotion = \"Sad\"\n",
    "        else:\n",
    "            emotion = \"Depressed\"\n",
    "    elif valence >= 0.4:\n",
    "        if arousal >= 0.7:\n",
    "            emotion = \"Surprised\"\n",
    "        elif arousal >= 0.4:\n",
    "            emotion = \"Interested\"\n",
    "        elif arousal >= 0.1:\n",
    "            emotion = \"Curious\"\n",
    "        elif arousal >= -0.1:\n",
    "            emotion = \"Relieved\"\n",
    "        elif arousal >= -0.4:\n",
    "            emotion = \"Bored\"\n",
    "        elif arousal >= -0.7:\n",
    "            emotion = \"Disappointed\"\n",
    "        else:\n",
    "            emotion = \"Depressed\"\n",
    "    elif valence >= 0.1:\n",
    "        if arousal >= 0.7:\n",
    "            emotion = \"Anxious\"\n",
    "        elif arousal >= 0.4:\n",
    "            emotion = \"Concerned\"\n",
    "        elif arousal >= 0.1:\n",
    "            emotion = \"Bored\"\n",
    "        elif arousal >= -0.1:\n",
    "            emotion = \"Calm\"\n",
    "        elif arousal >= -0.4:\n",
    "            emotion = \"Frustrated\"\n",
    "        elif arousal >= -0.7:\n",
    "            emotion = \"Sad\"\n",
    "        else:\n",
    "            emotion = \"Depressed\"\n",
    "    elif valence >= -0.1:\n",
    "        if arousal >= 0.7:\n",
    "            emotion = \"Annoyed\"\n",
    "        elif arousal >= 0.4:\n",
    "            emotion = \"Irritated\"\n",
    "        elif arousal >= 0.1:\n",
    "            emotion = \"Bored\"\n",
    "        elif arousal >= -0.1:\n",
    "            emotion = \"Neutral\"\n",
    "        elif arousal >= -0.4:\n",
    "            emotion = \"Tired\"\n",
    "        elif arousal >= -0.7:\n",
    "            emotion = \"Depressed\"\n",
    "        else:\n",
    "            emotion = \"Depressed\"\n",
    "    elif valence >= -0.4:\n",
    "        if arousal >= 0.7:\n",
    "            emotion = \"Fearful\"\n",
    "        elif arousal >= 0.4:\n",
    "            emotion = \"Anxious\"\n",
    "        elif arousal >= 0.1:\n",
    "            emotion = \"Worried\"\n",
    "        elif arousal >= -0.1:\n",
    "            emotion = \"Neutral\"\n",
    "        elif arousal >= -0.4:\n",
    "            emotion = \"Tired\"\n",
    "        elif arousal >= -0.7:\n",
    "            emotion = \"Depressed\"\n",
    "        else:\n",
    "            emotion = \"Depressed\"\n",
    "    else:\n",
    "        if arousal >= 0.7:\n",
    "            emotion = \"Fearful\"\n",
    "        elif arousal >= 0.4:\n",
    "            emotion = \"Anxious\"\n",
    "        elif arousal >= 0.1:\n",
    "            emotion = \"Worried\"\n",
    "        elif arousal >= -0.1:\n",
    "            emotion = \"Neutral\"\n",
    "        elif arousal >= -0.4:\n",
    "            emotion = \"Tired\"\n",
    "        elif arousal >= -0.7:\n",
    "            emotion = \"Depressed\"\n",
    "        else:\n",
    "            emotion = \"Depressed\"\n",
    "    return emotion\n"
   ]
  },
  {
   "cell_type": "code",
   "execution_count": 25,
   "metadata": {},
   "outputs": [
    {
     "name": "stdout",
     "output_type": "stream",
     "text": [
      "Valence: 0.784\n",
      "Arousal: 0.798\n",
      "Emotion: Excited\n"
     ]
    }
   ],
   "source": [
    "# Example usage\n",
    "text = \"I'm feeling happy and excited!\"\n",
    "valence, arousal = get_sentiment_scores(text)\n",
    "print(\"Valence:\", valence)\n",
    "print(\"Arousal:\", arousal)\n",
    "\n",
    "emotion = assign_emotion(valence, arousal)\n",
    "print(\"Emotion:\", emotion)\n"
   ]
  },
  {
   "cell_type": "code",
   "execution_count": 26,
   "metadata": {},
   "outputs": [
    {
     "name": "stdout",
     "output_type": "stream",
     "text": [
      "856797 done\n",
      "856798 done\n",
      "856813 done\n",
      "856815 done\n",
      "856816 done\n",
      "856817 done\n",
      "856818 done\n",
      "856820 done\n",
      "856821 done\n",
      "856822 done\n",
      "856823 done\n",
      "856824 done\n",
      "856829 done\n",
      "856831 done\n",
      "856835 done\n",
      "856838 done\n",
      "856839 done\n",
      "856840 done\n",
      "856841 done\n",
      "856842 done\n",
      "856843 done\n",
      "856844 done\n",
      "856845 done\n",
      "856846 done\n",
      "856847 done\n",
      "856851 done\n",
      "856852 done\n",
      "866611 done\n",
      "866612 done\n",
      "866613 done\n",
      "866620 done\n",
      "866621 done\n",
      "867651 done\n",
      "867652 done\n",
      "867653 done\n",
      "867654 done\n",
      "867655 done\n"
     ]
    }
   ],
   "source": [
    "# list english books\n",
    "traveldf = pd.read_csv('travel_df.csv', index_col=0)\n",
    "english_books = traveldf[traveldf['language'] == 'eng']\n",
    "english_books.head()\n",
    "\n",
    "\n",
    "for book_id in english_books['book_id']:\n",
    "    try:\n",
    "        with open('transcripts/no_doubles/' + str(book_id) + '.json') as f:\n",
    "            book = json.load(f)\n",
    "    except:\n",
    "        print(book_id, \"failed\")\n",
    "        continue\n",
    "\n",
    "    analyzed_pages = []\n",
    "    for p in book['pages']:\n",
    "        page = {'text': p[0]}\n",
    "        page['valence'], page['arousal'] = get_sentiment_scores(page['text'])\n",
    "        page['emotion'] = assign_emotion(page['valence'], page['arousal'])\n",
    "\n",
    "        analyzed_pages.append(page)\n",
    "    book['pages'] = analyzed_pages\n",
    "    with open('transcripts/emotions/' + str(book_id) + '.json', 'w') as f:\n",
    "        json.dump(book, f, indent=4)\n",
    "    print(book_id, \"done\")\n"
   ]
  }
 ],
 "metadata": {
  "kernelspec": {
   "display_name": "base",
   "language": "python",
   "name": "python3"
  },
  "language_info": {
   "codemirror_mode": {
    "name": "ipython",
    "version": 3
   },
   "file_extension": ".py",
   "mimetype": "text/x-python",
   "name": "python",
   "nbconvert_exporter": "python",
   "pygments_lexer": "ipython3",
   "version": "3.8.8"
  },
  "orig_nbformat": 4
 },
 "nbformat": 4,
 "nbformat_minor": 2
}
