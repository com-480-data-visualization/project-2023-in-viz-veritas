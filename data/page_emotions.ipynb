{
 "cells": [
  {
   "cell_type": "code",
   "execution_count": 11,
   "metadata": {},
   "outputs": [
    {
     "name": "stderr",
     "output_type": "stream",
     "text": [
      "[nltk_data] Downloading package vader_lexicon to\n",
      "[nltk_data]     C:\\Users\\wengl\\AppData\\Roaming\\nltk_data...\n",
      "[nltk_data]   Package vader_lexicon is already up-to-date!\n",
      "[nltk_data] Downloading package punkt to\n",
      "[nltk_data]     C:\\Users\\wengl\\AppData\\Roaming\\nltk_data...\n",
      "[nltk_data]   Package punkt is already up-to-date!\n"
     ]
    },
    {
     "data": {
      "text/plain": [
       "True"
      ]
     },
     "execution_count": 11,
     "metadata": {},
     "output_type": "execute_result"
    }
   ],
   "source": [
    "import pandas as pd\n",
    "import nltk\n",
    "import json\n",
    "\n",
    "nltk.download('vader_lexicon')\n",
    "nltk.download('punkt')\n"
   ]
  },
  {
   "cell_type": "code",
   "execution_count": 12,
   "metadata": {},
   "outputs": [],
   "source": [
    "from nltk.sentiment import SentimentIntensityAnalyzer\n",
    "\n",
    "def get_sentiment_scores(text):\n",
    "    sid = SentimentIntensityAnalyzer()\n",
    "    sentiment_scores = sid.polarity_scores(text)\n",
    "    valence = sentiment_scores['compound']\n",
    "    arousal = sentiment_scores['pos'] - sentiment_scores['neg']\n",
    "    return valence, arousal\n",
    "\n"
   ]
  },
  {
   "cell_type": "code",
   "execution_count": 13,
   "metadata": {},
   "outputs": [],
   "source": [
    "def assign_emotion(valence, arousal):\n",
    "    if valence >= 0.7:\n",
    "        if arousal >= 0.7:\n",
    "            emotion = \"Excited\"\n",
    "        elif arousal >= 0.4:\n",
    "            emotion = \"Happy\"\n",
    "        elif arousal >= 0.1:\n",
    "            emotion = \"Content\"\n",
    "        elif arousal >= -0.1:\n",
    "            emotion = \"Relaxed\"\n",
    "        elif arousal >= -0.4:\n",
    "            emotion = \"Disgusted\"\n",
    "        elif arousal >= -0.7:\n",
    "            emotion = \"Sad\"\n",
    "        else:\n",
    "            emotion = \"Depressed\"\n",
    "    elif valence >= 0.4:\n",
    "        if arousal >= 0.7:\n",
    "            emotion = \"Surprised\"\n",
    "        elif arousal >= 0.4:\n",
    "            emotion = \"Interested\"\n",
    "        elif arousal >= 0.1:\n",
    "            emotion = \"Curious\"\n",
    "        elif arousal >= -0.1:\n",
    "            emotion = \"Relieved\"\n",
    "        elif arousal >= -0.4:\n",
    "            emotion = \"Bored\"\n",
    "        elif arousal >= -0.7:\n",
    "            emotion = \"Disappointed\"\n",
    "        else:\n",
    "            emotion = \"Depressed\"\n",
    "    elif valence >= 0.1:\n",
    "        if arousal >= 0.7:\n",
    "            emotion = \"Anxious\"\n",
    "        elif arousal >= 0.4:\n",
    "            emotion = \"Concerned\"\n",
    "        elif arousal >= 0.1:\n",
    "            emotion = \"Bored\"\n",
    "        elif arousal >= -0.1:\n",
    "            emotion = \"Calm\"\n",
    "        elif arousal >= -0.4:\n",
    "            emotion = \"Frustrated\"\n",
    "        elif arousal >= -0.7:\n",
    "            emotion = \"Sad\"\n",
    "        else:\n",
    "            emotion = \"Depressed\"\n",
    "    elif valence >= -0.1:\n",
    "        if arousal >= 0.7:\n",
    "            emotion = \"Annoyed\"\n",
    "        elif arousal >= 0.4:\n",
    "            emotion = \"Irritated\"\n",
    "        elif arousal >= 0.1:\n",
    "            emotion = \"Bored\"\n",
    "        elif arousal >= -0.1:\n",
    "            emotion = \"Neutral\"\n",
    "        elif arousal >= -0.4:\n",
    "            emotion = \"Tired\"\n",
    "        elif arousal >= -0.7:\n",
    "            emotion = \"Depressed\"\n",
    "        else:\n",
    "            emotion = \"Depressed\"\n",
    "    elif valence >= -0.4:\n",
    "        if arousal >= 0.7:\n",
    "            emotion = \"Fearful\"\n",
    "        elif arousal >= 0.4:\n",
    "            emotion = \"Anxious\"\n",
    "        elif arousal >= 0.1:\n",
    "            emotion = \"Worried\"\n",
    "        elif arousal >= -0.1:\n",
    "            emotion = \"Neutral\"\n",
    "        elif arousal >= -0.4:\n",
    "            emotion = \"Tired\"\n",
    "        elif arousal >= -0.7:\n",
    "            emotion = \"Depressed\"\n",
    "        else:\n",
    "            emotion = \"Depressed\"\n",
    "    else:\n",
    "        if arousal >= 0.7:\n",
    "            emotion = \"Fearful\"\n",
    "        elif arousal >= 0.4:\n",
    "            emotion = \"Anxious\"\n",
    "        elif arousal >= 0.1:\n",
    "            emotion = \"Worried\"\n",
    "        elif arousal >= -0.1:\n",
    "            emotion = \"Neutral\"\n",
    "        elif arousal >= -0.4:\n",
    "            emotion = \"Tired\"\n",
    "        elif arousal >= -0.7:\n",
    "            emotion = \"Depressed\"\n",
    "        else:\n",
    "            emotion = \"Depressed\"\n",
    "    return emotion\n"
   ]
  },
  {
   "cell_type": "code",
   "execution_count": 14,
   "metadata": {},
   "outputs": [
    {
     "name": "stdout",
     "output_type": "stream",
     "text": [
      "Valence: 0.784\n",
      "Arousal: 0.798\n",
      "Emotion: Excited\n"
     ]
    }
   ],
   "source": [
    "# Example usage\n",
    "text = \"I'm feeling happy and excited!\"\n",
    "valence, arousal = get_sentiment_scores(text)\n",
    "print(\"Valence:\", valence)\n",
    "print(\"Arousal:\", arousal)\n",
    "\n",
    "emotion = assign_emotion(valence, arousal)\n",
    "print(\"Emotion:\", emotion)\n"
   ]
  },
  {
   "cell_type": "code",
   "execution_count": 16,
   "metadata": {},
   "outputs": [
    {
     "ename": "TypeError",
     "evalue": "list indices must be integers or slices, not str",
     "output_type": "error",
     "traceback": [
      "\u001b[1;31m---------------------------------------------------------------------------\u001b[0m",
      "\u001b[1;31mTypeError\u001b[0m                                 Traceback (most recent call last)",
      "\u001b[1;32m<ipython-input-16-71857885458c>\u001b[0m in \u001b[0;36m<module>\u001b[1;34m\u001b[0m\n\u001b[0;32m     13\u001b[0m         \u001b[1;32mcontinue\u001b[0m\u001b[1;33m\u001b[0m\u001b[1;33m\u001b[0m\u001b[0m\n\u001b[0;32m     14\u001b[0m     \u001b[1;32mfor\u001b[0m \u001b[0mpage\u001b[0m \u001b[1;32min\u001b[0m \u001b[0mbook\u001b[0m\u001b[1;33m[\u001b[0m\u001b[1;34m'pages'\u001b[0m\u001b[1;33m]\u001b[0m\u001b[1;33m:\u001b[0m\u001b[1;33m\u001b[0m\u001b[1;33m\u001b[0m\u001b[0m\n\u001b[1;32m---> 15\u001b[1;33m         \u001b[0mpage\u001b[0m\u001b[1;33m[\u001b[0m\u001b[1;34m'valence'\u001b[0m\u001b[1;33m]\u001b[0m\u001b[1;33m,\u001b[0m \u001b[0mpage\u001b[0m\u001b[1;33m[\u001b[0m\u001b[1;34m'arousal'\u001b[0m\u001b[1;33m]\u001b[0m \u001b[1;33m=\u001b[0m \u001b[0mget_sentiment_scores\u001b[0m\u001b[1;33m(\u001b[0m\u001b[0mpage\u001b[0m\u001b[1;33m[\u001b[0m\u001b[1;36m0\u001b[0m\u001b[1;33m]\u001b[0m\u001b[1;33m)\u001b[0m\u001b[1;33m\u001b[0m\u001b[1;33m\u001b[0m\u001b[0m\n\u001b[0m\u001b[0;32m     16\u001b[0m         \u001b[0mpage\u001b[0m\u001b[1;33m[\u001b[0m\u001b[1;34m'emotion'\u001b[0m\u001b[1;33m]\u001b[0m \u001b[1;33m=\u001b[0m \u001b[0massign_emotion\u001b[0m\u001b[1;33m(\u001b[0m\u001b[0mpage\u001b[0m\u001b[1;33m[\u001b[0m\u001b[1;34m'valence'\u001b[0m\u001b[1;33m]\u001b[0m\u001b[1;33m,\u001b[0m \u001b[0mpage\u001b[0m\u001b[1;33m[\u001b[0m\u001b[1;34m'arousal'\u001b[0m\u001b[1;33m]\u001b[0m\u001b[1;33m)\u001b[0m\u001b[1;33m\u001b[0m\u001b[1;33m\u001b[0m\u001b[0m\n\u001b[0;32m     17\u001b[0m     \u001b[1;32mwith\u001b[0m \u001b[0mopen\u001b[0m\u001b[1;33m(\u001b[0m\u001b[1;34m'transcripts/emotions/'\u001b[0m \u001b[1;33m+\u001b[0m \u001b[0mstr\u001b[0m\u001b[1;33m(\u001b[0m\u001b[0mbook_id\u001b[0m\u001b[1;33m)\u001b[0m \u001b[1;33m+\u001b[0m \u001b[1;34m'.json'\u001b[0m\u001b[1;33m,\u001b[0m \u001b[1;34m'w'\u001b[0m\u001b[1;33m)\u001b[0m \u001b[1;32mas\u001b[0m \u001b[0mf\u001b[0m\u001b[1;33m:\u001b[0m\u001b[1;33m\u001b[0m\u001b[1;33m\u001b[0m\u001b[0m\n",
      "\u001b[1;31mTypeError\u001b[0m: list indices must be integers or slices, not str"
     ]
    }
   ],
   "source": [
    "# list english books\n",
    "traveldf = pd.read_csv('travel_df.csv', index_col=0)\n",
    "english_books = traveldf[traveldf['language'] == 'eng']\n",
    "english_books.head()\n",
    "\n",
    "\n",
    "for book_id in english_books['book_id']:\n",
    "    try:\n",
    "        with open('transcripts/no_doubles/' + str(book_id) + '.json') as f:\n",
    "            book = json.load(f)\n",
    "    except:\n",
    "        print(book_id, \"failed\")\n",
    "        continue\n",
    "\n",
    "    analyzed_pages = []\n",
    "    for p in book['pages']:\n",
    "        text = p[0]\n",
    "        page = {}\n",
    "        page['valence'], page['arousal'] = get_sentiment_scores(text)\n",
    "        page['emotion'] = assign_emotion(page['valence'], page['arousal'])\n",
    "        analyzed_pages.append(page)\n",
    "    book['pages'] = analyzed_pages\n",
    "    with open('transcripts/emotions/' + str(book_id) + '.json', 'w') as f:\n",
    "        json.dump(book, f, indent=4)\n",
    "    print(book_id, \"done\")\n"
   ]
  },
  {
   "cell_type": "code",
   "execution_count": null,
   "metadata": {},
   "outputs": [],
   "source": []
  }
 ],
 "metadata": {
  "kernelspec": {
   "display_name": "base",
   "language": "python",
   "name": "python3"
  },
  "language_info": {
   "codemirror_mode": {
    "name": "ipython",
    "version": 3
   },
   "file_extension": ".py",
   "mimetype": "text/x-python",
   "name": "python",
   "nbconvert_exporter": "python",
   "pygments_lexer": "ipython3",
   "version": "3.8.8"
  },
  "orig_nbformat": 4
 },
 "nbformat": 4,
 "nbformat_minor": 2
}
